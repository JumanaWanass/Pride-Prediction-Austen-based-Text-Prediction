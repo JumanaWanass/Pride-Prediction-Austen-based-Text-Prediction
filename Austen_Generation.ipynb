{
  "nbformat": 4,
  "nbformat_minor": 0,
  "metadata": {
    "colab": {
      "provenance": [],
      "authorship_tag": "ABX9TyMHpgQOf3ldMKVRrHNZ4A43",
      "include_colab_link": true
    },
    "kernelspec": {
      "name": "python3",
      "display_name": "Python 3"
    },
    "language_info": {
      "name": "python"
    }
  },
  "cells": [
    {
      "cell_type": "markdown",
      "metadata": {
        "id": "view-in-github",
        "colab_type": "text"
      },
      "source": [
        "<a href=\"https://colab.research.google.com/github/JumanaWanass/Pride-Prediction-Austen-based-Text-Recognition/blob/main/Austen_Generation.ipynb\" target=\"_parent\"><img src=\"https://colab.research.google.com/assets/colab-badge.svg\" alt=\"Open In Colab\"/></a>"
      ]
    },
    {
      "cell_type": "code",
      "source": [
        "import re\n",
        "import unicodedata\n",
        "import string\n",
        "import random\n",
        "import nltk\n",
        "nltk.download('punkt')\n",
        "nltk.download('wordnet')\n",
        "from nltk.probability import ConditionalFreqDist"
      ],
      "metadata": {
        "colab": {
          "base_uri": "https://localhost:8080/"
        },
        "id": "coy9mWFvJZ9N",
        "outputId": "7ea88d2e-e82a-4238-82ec-f78239c58ebd"
      },
      "execution_count": null,
      "outputs": [
        {
          "output_type": "stream",
          "name": "stderr",
          "text": [
            "[nltk_data] Downloading package punkt to /root/nltk_data...\n",
            "[nltk_data]   Unzipping tokenizers/punkt.zip.\n",
            "[nltk_data] Downloading package wordnet to /root/nltk_data...\n"
          ]
        }
      ]
    },
    {
      "cell_type": "code",
      "source": [
        "import re\n",
        "import unicodedata\n",
        "import string\n",
        "\n",
        "def filter(text):\n",
        "    # normalize text\n",
        "    text = (unicodedata.normalize('NFKD', text).encode('ascii', 'ignore').decode('utf-8', 'ignore'))\n",
        "    text = re.sub('<.*?>', ' ', text)     # replace html chars with ' '\n",
        "    text = text.translate(str.maketrans(' ', ' ', string.punctuation)) # remove punctuation\n",
        "    # only alphabets and numerics\n",
        "    text = re.sub('[^a-zA-Z]', ' ', text)\n",
        "    text = re.sub(\"\\n\", \" \", text)\n",
        "    text = text.lower()\n",
        "    # split and join the words\n",
        "    text = ' '.join(text.split())\n",
        "    return text\n"
      ],
      "metadata": {
        "id": "0VfKk4UbJhwt"
      },
      "execution_count": null,
      "outputs": []
    },
    {
      "cell_type": "code",
      "source": [
        "def clean(text):\n",
        "    tokens = nltk.word_tokenize(text)\n",
        "    wnl = nltk.stem.WordNetLemmatizer()\n",
        "    output = []\n",
        "    for word in tokens:\n",
        "        # lemmatize word\n",
        "        output.append(wnl.lemmatize(word))\n",
        "\n",
        "    return ' '.join(output)\n"
      ],
      "metadata": {
        "id": "OQGcNMdkJjsd"
      },
      "execution_count": null,
      "outputs": []
    },
    {
      "cell_type": "code",
      "source": [
        "import nltk\n",
        "from nltk.util import ngrams\n",
        "from collections import defaultdict\n",
        "\n",
        "def n_gram_model(text, n):\n",
        "    tokens = nltk.word_tokenize(text)\n",
        "    ngram_freq = defaultdict(lambda: defaultdict(int))\n",
        "\n",
        "    # Generate n-grams and count frequencies\n",
        "    for ngram_tuple in ngrams(tokens, n, pad_left=True, pad_right=True, left_pad_symbol='<s>', right_pad_symbol='</s>'):\n",
        "        context = ngram_tuple[:-1]\n",
        "        word = ngram_tuple[-1]\n",
        "        ngram_freq[context][word] += 1\n",
        "\n",
        "    # Convert frequencies to probabilities\n",
        "    ngram_prob = defaultdict(lambda: defaultdict(float))\n",
        "    for context, words in ngram_freq.items():\n",
        "        total_count = sum(words.values())\n",
        "        for word, count in words.items():\n",
        "            ngram_prob[context][word] = count / total_count\n",
        "\n",
        "    return ngram_prob"
      ],
      "metadata": {
        "id": "j_OBepK2JlpV"
      },
      "execution_count": null,
      "outputs": []
    },
    {
      "cell_type": "code",
      "source": [
        "import random\n",
        "\n",
        "def predict(model, user_input, n, num_words, end_token):\n",
        "    # Tokenize user input\n",
        "    user_input = user_input.split()\n",
        "\n",
        "    # Extract previous n-1 words as context and convert to tuple\n",
        "    context = tuple(user_input[-(n - 1):])\n",
        "\n",
        "    # Generate specified number of words\n",
        "    for i in range(num_words):\n",
        "        # Check if it's the last word to generate\n",
        "        is_last_word = i == num_words - 1\n",
        "\n",
        "        # Check if context exists in the model\n",
        "        if context not in model:\n",
        "            print(\"Context not found in model.\")\n",
        "            break\n",
        "\n",
        "        # Sort predictions by probability\n",
        "        predictions = sorted(model[context].keys(), key=lambda x: model[context][x], reverse=True)\n",
        "\n",
        "        # Generate weights for predictions with add-one smoothing\n",
        "        total_count = sum(model[context].values())\n",
        "        weights = [(model[context][word] + 1) / (total_count + len(model[context])) for word in predictions]\n",
        "\n",
        "        # Adjust probabilities for end-of-text token if it's the last word\n",
        "        if is_last_word and end_token in predictions:\n",
        "            weights[predictions.index(end_token)] += 1 / (total_count + len(model[context]))  # Increment count for end token with add-one smoothing\n",
        "\n",
        "        next_word = random.choices(list(model[context]), weights=weights, k=1)[0]\n",
        "\n",
        "        # If it's the last word and end token is chosen, break the loop\n",
        "        if is_last_word and next_word == end_token:\n",
        "            break\n",
        "\n",
        "        # Add predicted word to user input\n",
        "        user_input.append(next_word)\n",
        "\n",
        "        # Update context for next iteration\n",
        "        context = tuple(user_input[-(n - 1):])\n",
        "\n",
        "    print(' '.join(user_input))"
      ],
      "metadata": {
        "id": "YGXFRuTdJnsW"
      },
      "execution_count": null,
      "outputs": []
    },
    {
      "cell_type": "code",
      "source": [
        "file = open('/content/JaneAustenWorks.txt', 'r')\n",
        "text = \"\"\n",
        "while True:\n",
        "    line = file.readline()\n",
        "    text += line\n",
        "    if not line:\n",
        "        break\n",
        "\n",
        "# pre-process text\n",
        "print(\"Filtering...\")\n",
        "words = filter(text)\n",
        "print(\"Cleaning...\")\n",
        "words = clean(words)"
      ],
      "metadata": {
        "colab": {
          "base_uri": "https://localhost:8080/"
        },
        "id": "bM4iVGXAw8ZP",
        "outputId": "f20bc8e8-1813-4cef-acaf-635587aaf88c"
      },
      "execution_count": null,
      "outputs": [
        {
          "output_type": "stream",
          "name": "stdout",
          "text": [
            "Filtering...\n",
            "Cleaning...\n"
          ]
        }
      ]
    },
    {
      "cell_type": "code",
      "source": [
        "# make language model\n",
        "print(\"Making model...\")\n",
        "n = 3\n",
        "model = n_gram_model(words, n)"
      ],
      "metadata": {
        "colab": {
          "base_uri": "https://localhost:8080/"
        },
        "id": "1pUO12Z-xpb_",
        "outputId": "107e5cd7-3110-493e-915b-6687df2a712d"
      },
      "execution_count": null,
      "outputs": [
        {
          "output_type": "stream",
          "name": "stdout",
          "text": [
            "Making model...\n"
          ]
        }
      ]
    },
    {
      "cell_type": "code",
      "execution_count": null,
      "metadata": {
        "colab": {
          "base_uri": "https://localhost:8080/"
        },
        "id": "CS7fsDJuH80n",
        "outputId": "d40aa7a8-acf1-4a41-8bb2-e8c432de87ba"
      },
      "outputs": [
        {
          "output_type": "stream",
          "name": "stdout",
          "text": [
            "It is a truth universally acknowledged that he explained himself at what time you may now and\n"
          ]
        }
      ],
      "source": [
        "# According to jane austen:\n",
        "predict(model, \"It is a truth universally  acknowledged that\", n,10, '</s>')"
      ]
    },
    {
      "cell_type": "code",
      "source": [],
      "metadata": {
        "id": "WMcY8734w2Kw"
      },
      "execution_count": null,
      "outputs": []
    }
  ]
}